{
  "nbformat": 4,
  "nbformat_minor": 0,
  "metadata": {
    "colab": {
      "provenance": [],
      "toc_visible": true
    },
    "kernelspec": {
      "name": "python3",
      "display_name": "Python 3"
    },
    "language_info": {
      "name": "python"
    }
  },
  "cells": [
    {
      "cell_type": "markdown",
      "source": [
        "## **MNIST Classification**"
      ],
      "metadata": {
        "id": "c6bCVJmDs9CF"
      }
    },
    {
      "cell_type": "markdown",
      "source": [
        "\n",
        "In the dynamic domain of machine learning, algorithms serve as instrumental instruments for extracting meaningful insights from data. This report meticulously examines the implementation and analysis of two pivotal algorithms—linear regression and softmax regression.\n",
        "\n",
        "While linear regression adeptly models relationships between variables, softmax regression serves as an extension of logistic regression, offering a specialized methodology for managing multiclass classification tasks.\n",
        "\n",
        "Both algorithms are foundational within the realm of supervised learning, possessing unique attributes that contribute to their respective strengths. This exploration aims to elucidate the intricacies of these algorithms, delineating their applications, strengths, and limitations, thereby facilitating a comprehensive understanding of their effieciency in guiding data-driven decision-making.\n"
      ],
      "metadata": {
        "id": "zdinvhCHxWi1"
      }
    },
    {
      "cell_type": "markdown",
      "source": [
        "# **Preparations**"
      ],
      "metadata": {
        "id": "bQgVaejqtx2d"
      }
    },
    {
      "cell_type": "markdown",
      "source": [
        "In this segment, the MNIST dataset is going to be loaded, divided, and prepared for use.\n",
        "\n",
        "The original dataset comprises 70,000 grayscale images, each measuring 28x28 pixels, representing handwritten digits.\n",
        "\n",
        "Upon retrieval, the dataset will be partitioned into a training set (consisting of 60,000 images along with their respective labels) and a test set (comprising 10,000 images along with their labels).\n",
        "\n",
        "During preprocessing, the images will be flattened into 1-dimensional vectors, converting each from 28x28 (784 pixels in total) to a single vector, and normalized to the range 0-1.\n",
        "\n",
        "To implement the bias trick, an additional entry will be appended to every vector within the dataset, resulting in vectors of length 785:\n",
        "\n",
        "X_train: 60,000 x 785\n",
        "Y_train: 60,000 x 10\n",
        "X_test: 10,000 x 785\n",
        "Y_test: 10,000 x 10"
      ],
      "metadata": {
        "id": "GV7fz-wkt4fO"
      }
    },
    {
      "cell_type": "code",
      "execution_count": null,
      "metadata": {
        "id": "MuUuc3VWdnUz"
      },
      "outputs": [],
      "source": [
        "# Imports\n",
        "import numpy as np\n",
        "from sklearn.datasets import fetch_openml\n",
        "from sklearn.model_selection import train_test_split\n",
        "from sklearn.metrics import confusion_matrix\n",
        "from matplotlib import pyplot as plt\n",
        "from sklearn.preprocessing import OneHotEncoder\n"
      ]
    },
    {
      "cell_type": "code",
      "source": [
        "# Fetch MNIST dataset, and unpack it to images (X) and labels (Y)\n",
        "def set_data():\n",
        "\n",
        "    # Import data\n",
        "    mnist = fetch_openml('mnist_784', version=1)\n",
        "\n",
        "    # Extract Images and labels\n",
        "    X = mnist['data'].values\n",
        "    Y = mnist['target'].to_numpy(dtype=int)\n",
        "\n",
        "    # Normalize data\n",
        "    X /= 255.0\n",
        "\n",
        "    # Add ones vector to implement the 'bias trick'\n",
        "    X = np.column_stack([np.ones(X.shape[0]), X])\n",
        "\n",
        "    return X, Y\n",
        "\n",
        "\n"
      ],
      "metadata": {
        "id": "7uip-nCSfSr5"
      },
      "execution_count": null,
      "outputs": []
    },
    {
      "cell_type": "code",
      "source": [
        "# Fetch data and split it into train and test data\n",
        "X_all, Y_all = set_data()\n",
        "X_train, X_test, Y_train, Y_test = train_test_split(X_all, Y_all, test_size=10000)"
      ],
      "metadata": {
        "id": "pXcgPBClkXs5",
        "colab": {
          "base_uri": "https://localhost:8080/"
        },
        "outputId": "c22efd07-9e88-4e65-9fea-75074f5fea99"
      },
      "execution_count": null,
      "outputs": [
        {
          "output_type": "stream",
          "name": "stderr",
          "text": [
            "/usr/local/lib/python3.10/dist-packages/sklearn/datasets/_openml.py:968: FutureWarning: The default value of `parser` will change from `'liac-arff'` to `'auto'` in 1.4. You can set `parser='auto'` to silence this warning. Therefore, an `ImportError` will be raised from 1.4 if the dataset is dense and pandas is not installed. Note that the pandas parser may return different data types. See the Notes Section in fetch_openml's API doc for details.\n",
            "  warn(\n"
          ]
        }
      ]
    },
    {
      "cell_type": "markdown",
      "source": [
        "# **Softmax Regression**"
      ],
      "metadata": {
        "id": "IE_rRBl6z-c2"
      }
    },
    {
      "cell_type": "markdown",
      "source": [
        "In my implementation for softmax regression on the MNIST dataset on this section, the cornerstone lies in leveraging gradient descent and cross-entropy loss to facilitate effective multi-class classification.\n",
        "The model utilizes the softmax function to transform raw output scores (W.T*X) into probability distributions across the digit classes.\n",
        "During the training phase, the cross-entropy loss serves as a crucial metric to quantify the disparity between predicted probabilities and actual class labels. Employing gradient descent as the optimization strategy, the algorithm iteratively refines model parameters to minimize this loss, thereby enhancing the overall classification accuracy."
      ],
      "metadata": {
        "id": "tg_FfSDVcWWn"
      }
    },
    {
      "cell_type": "code",
      "source": [
        "# Y_train - 60000X1\n",
        "# X_train - 60000X785\n",
        "# W - 785X10\n",
        "\n",
        "# Implement the softmax function\n",
        "def softmax(scores):\n",
        "    exp_scores = np.exp(scores)\n",
        "    return exp_scores / np.sum(exp_scores, axis=1, keepdims=True)\n",
        "\n",
        "# Implement the cross entropy loss\n",
        "def cross_entropy_loss(y_true, y_pred):\n",
        "    return -np.sum(y_true * np.log(y_pred)) / len(y_true)\n",
        "\n",
        "# Predict labels based on calculated weights using softmax function\n",
        "def predict(X, W):\n",
        "        scores = np.dot(X, W)\n",
        "        y_pred = softmax(scores)\n",
        "        return y_pred\n",
        "\n",
        "\n",
        "# Implement the gradient descent algorithm on the softmax function\n",
        "def gradient_descent(X_train, Y_train, X_test, Y_test, learning_rate=1, epochs=100, W = None, epsilon = 0.1):\n",
        "    num_samples, num_classes = X_train.shape[0], Y_train.shape[1]\n",
        "\n",
        "    if W is None:\n",
        "      # Initialize weights to random values\n",
        "      W = np.random.randn(X_train.shape[1], num_classes)\n",
        "\n",
        "    train_losses = []\n",
        "    test_losses = []\n",
        "    for epoch in range(epochs):\n",
        "\n",
        "        # Predict\n",
        "        y_pred_train = predict(X_train, W)\n",
        "        y_pred_test = predict(X_test, W)\n",
        "\n",
        "        # Compute losses\n",
        "        train_loss = cross_entropy_loss(Y_train, y_pred_train)\n",
        "        train_losses.append(train_loss)\n",
        "\n",
        "        test_loss = cross_entropy_loss(Y_test, y_pred_test)\n",
        "        test_losses.append(test_loss)\n",
        "\n",
        "        # calculate gradient and the correction factor dW\n",
        "        gradient = (y_pred_train - Y_train) / num_samples\n",
        "        dW = np.dot(X_train.T, gradient)\n",
        "\n",
        "        # Update weights\n",
        "        W -= learning_rate * dW\n",
        "\n",
        "        if train_loss < epsilon:\n",
        "          break\n",
        "\n",
        "    return W, train_losses, test_losses"
      ],
      "metadata": {
        "id": "mCdyJsOnN--E"
      },
      "execution_count": null,
      "outputs": []
    },
    {
      "cell_type": "code",
      "source": [
        "# Parameters and constants\n",
        "num_classes = 10\n",
        "num_features = X_train.shape[1]\n",
        "num_epochs = 600\n",
        "lr = 1\n",
        "\n",
        "# Transform Y_train and Y_test to one hot\n",
        "encoder = OneHotEncoder(sparse=False)\n",
        "Y_train_oh = encoder.fit_transform(Y_train.reshape(-1, 1))\n",
        "Y_test_oh = encoder.fit_transform(Y_test.reshape(-1, 1))\n",
        "\n",
        "\n",
        "# Train the model using gradient descent to find optimal weights\n",
        "W_optimal, train_losses, test_losses = gradient_descent(X_train, Y_train_oh, X_test, Y_test_oh, epochs=num_epochs\n",
        "                             ,learning_rate=lr)\n",
        "\n",
        "\n"
      ],
      "metadata": {
        "id": "RyxFn7eQPYt6",
        "colab": {
          "base_uri": "https://localhost:8080/"
        },
        "outputId": "b639561e-f845-407c-c771-19f88abfeede"
      },
      "execution_count": null,
      "outputs": [
        {
          "output_type": "stream",
          "name": "stderr",
          "text": [
            "/usr/local/lib/python3.10/dist-packages/sklearn/preprocessing/_encoders.py:868: FutureWarning: `sparse` was renamed to `sparse_output` in version 1.2 and will be removed in 1.4. `sparse_output` is ignored unless you leave `sparse` to its default value.\n",
            "  warnings.warn(\n",
            "/usr/local/lib/python3.10/dist-packages/sklearn/preprocessing/_encoders.py:868: FutureWarning: `sparse` was renamed to `sparse_output` in version 1.2 and will be removed in 1.4. `sparse_output` is ignored unless you leave `sparse` to its default value.\n",
            "  warnings.warn(\n"
          ]
        }
      ]
    },
    {
      "cell_type": "markdown",
      "source": [
        "## **Results**"
      ],
      "metadata": {
        "id": "oEp0O0TUfjgW"
      }
    },
    {
      "cell_type": "code",
      "source": [
        "def show_results_softmax_regression(X, W ,Y):\n",
        "  # Predict scores\n",
        "  y_pred_scores = predict(X, W)\n",
        "\n",
        "  # predicted label is the one with largest score\n",
        "  y_pred_labels = np.argmax(y_pred_scores, axis=1)\n",
        "\n",
        "  # Accuracy = num of correct predictions / num of total predictions\n",
        "  acc = np.sum(y_pred_labels == Y) / Y.shape[0]\n",
        "\n",
        "  print (\"ACC for multi-class clasification using softmax regression = \" + str(acc))\n",
        "\n",
        "  # Calculate confusion matrix for the multi-class model\n",
        "  conf_matrix = confusion_matrix(Y, y_pred_labels)\n",
        "  print (\"\\nConfusion matrix for the multi-class clasification using softmax regression:\")\n",
        "  print (conf_matrix)\n",
        "\n",
        "\n",
        "  # Calculate TPR for each digit\n",
        "  tpr_per_class = np.diag(conf_matrix) / np.sum(conf_matrix, axis=0)\n",
        "  print(\"\\nTrue Positive Rate (TPR) for Each digit:\")\n",
        "  for i, tpr in enumerate(tpr_per_class):\n",
        "      print(f\"digit {i}: TPR = {tpr:.4f}\")\n",
        "\n",
        "\n",
        "  unique_classes = np.arange(W.shape[1])\n",
        "  # Iterate through each class and compute the confusion matrix\n",
        "  for class_label in unique_classes:\n",
        "      class_y_true = (Y == class_label).astype(int)\n",
        "      class_y_pred = (y_pred_labels == class_label).astype(int)\n",
        "\n",
        "      conf_matrix_class = confusion_matrix(class_y_true, class_y_pred)\n",
        "\n",
        "      # Calculate ACC for each digit using the confusion matrix\n",
        "      TP = conf_matrix_class[0,0]\n",
        "      TN = conf_matrix_class[1,1]\n",
        "\n",
        "      acc = 100*(TP+TN)/np.sum(conf_matrix_class)\n",
        "      print(f\"\\nAccuracy for digit {class_label}: {acc}%\")\n",
        "\n",
        "      # Print the confusion matrix for the current class\n",
        "      print(f\"Confusion Matrix for digit {class_label}:\\n{conf_matrix_class}\")\n",
        "\n",
        "\n",
        "\n",
        "\n",
        "def plot_losses(train_losses, test_losses):\n",
        "    plt.clf()\n",
        "    plt.title(\"Loss for softmax regression VS epoch\")\n",
        "    plt.xlabel(\"Epoch number\")\n",
        "    plt.ylabel(\"Cross Entropy Loss\")\n",
        "    plt.plot(range(1, len(train_losses) + 1), train_losses, label=\"train loss\")\n",
        "    plt.plot(range(1, len(test_losses) + 1), test_losses, label=\"test loss\")\n",
        "    plt.legend(['Train loss', 'Test loss'])\n",
        "    # plt.savefig(\"perceptron \" + str(self.digit) + \"  loss\")\n",
        "    plt.show()\n",
        "\n",
        "\n",
        "\n"
      ],
      "metadata": {
        "id": "Ak_bzEHvSHNE"
      },
      "execution_count": null,
      "outputs": []
    },
    {
      "cell_type": "code",
      "source": [
        "print(\"Results for softmax regression:\")\n",
        "plot_losses(train_losses, test_losses)\n",
        "show_results_softmax_regression(X_test, W_optimal ,Y_test)"
      ],
      "metadata": {
        "colab": {
          "base_uri": "https://localhost:8080/",
          "height": 1000
        },
        "id": "Sl-VbtMYfi4F",
        "outputId": "ab7074c4-6d1c-4c9c-ab7a-cce98e8dbfd2"
      },
      "execution_count": null,
      "outputs": [
        {
          "output_type": "stream",
          "name": "stdout",
          "text": [
            "Results for softmax regression:\n"
          ]
        },
        {
          "output_type": "display_data",
          "data": {
            "text/plain": [
              "<Figure size 640x480 with 1 Axes>"
            ],
            "image/png": "[encoded data removed]"
          },
          "metadata": {}
        },
        {
          "output_type": "stream",
          "name": "stdout",
          "text": [
            "ACC for multi-class clasification using softmax regression = 0.8804\n",
            "\n",
            "Confusion matrix for the multi-class clasification using softmax regression:\n",
            "[[ 885    0    8    1    2   20    9    2   15    1]\n",
            " [   0 1068    3    5    4    4    4    5   28    2]\n",
            " [  10   10  885   19   20    7   19   14   41    7]\n",
            " [   4    7   34  862    4   41    9   20   21   12]\n",
            " [   4    9    9    1  862    3    9   10   10   43]\n",
            " [  13    4   12   43   11  775   18   10   44   13]\n",
            " [  10    3   27    2   11   19  938    3    6    0]\n",
            " [   2    5   17    7   12    2    0  945    6   37]\n",
            " [   5   20   18   41    7   52   10    7  799   22]\n",
            " [  16    5    4   12   65    3    1   44   17  785]]\n",
            "\n",
            "True Positive Rate (TPR) for Each digit:\n",
            "digit 0: TPR = 0.9326\n",
            "digit 1: TPR = 0.9443\n",
            "digit 2: TPR = 0.8702\n",
            "digit 3: TPR = 0.8681\n",
            "digit 4: TPR = 0.8637\n",
            "digit 5: TPR = 0.8369\n",
            "digit 6: TPR = 0.9223\n",
            "digit 7: TPR = 0.8915\n",
            "digit 8: TPR = 0.8095\n",
            "digit 9: TPR = 0.8514\n",
            "\n",
            "Accuracy for digit 0: 98.78%\n",
            "Confusion Matrix for digit 0:\n",
            "[[8993   64]\n",
            " [  58  885]]\n",
            "\n",
            "Accuracy for digit 1: 98.82%\n",
            "Confusion Matrix for digit 1:\n",
            "[[8814   63]\n",
            " [  55 1068]]\n",
            "\n",
            "Accuracy for digit 2: 97.21%\n",
            "Confusion Matrix for digit 2:\n",
            "[[8836  132]\n",
            " [ 147  885]]\n",
            "\n",
            "Accuracy for digit 3: 97.17%\n",
            "Confusion Matrix for digit 3:\n",
            "[[8855  131]\n",
            " [ 152  862]]\n",
            "\n",
            "Accuracy for digit 4: 97.66%\n",
            "Confusion Matrix for digit 4:\n",
            "[[8904  136]\n",
            " [  98  862]]\n",
            "\n",
            "Accuracy for digit 5: 96.81%\n",
            "Confusion Matrix for digit 5:\n",
            "[[8906  151]\n",
            " [ 168  775]]\n",
            "\n",
            "Accuracy for digit 6: 98.4%\n",
            "Confusion Matrix for digit 6:\n",
            "[[8902   79]\n",
            " [  81  938]]\n",
            "\n",
            "Accuracy for digit 7: 97.97%\n",
            "Confusion Matrix for digit 7:\n",
            "[[8852  115]\n",
            " [  88  945]]\n",
            "\n",
            "Accuracy for digit 8: 96.3%\n",
            "Confusion Matrix for digit 8:\n",
            "[[8831  188]\n",
            " [ 182  799]]\n",
            "\n",
            "Accuracy for digit 9: 96.96%\n",
            "Confusion Matrix for digit 9:\n",
            "[[8911  137]\n",
            " [ 167  785]]\n"
          ]
        }
      ]
    },
    {
      "cell_type": "markdown",
      "source": [
        "## **Discussion**"
      ],
      "metadata": {
        "id": "YkQaaOXphWH0"
      }
    },
    {
      "cell_type": "markdown",
      "source": [
        "The overall accuracy achieved for the multi-class classification using gradient descent with softmax regression is 87.79%, indicating a robust performance in distinguishing between the ten digits. The confusion matrix provides a detailed breakdown of the model's predictions for each class.\n",
        "\n",
        "Upon closer inspection of the confusion matrix, it is evident that the model performs exceptionally well in correctly classifying digits 0, 1, and 6, with accuracies exceeding 98%. Digits 2, 4, and 7 also demonstrate high accuracies, hovering around 97-98%. However, the model faces relatively more challenges with digits 5, 8, and 9, where accuracies drop slightly to the mid-90s. These discrepancies may stem from the inherent complexities in distinguishing visually similar digits.\n",
        "\n",
        "Analyzing the true positive rates (TPR) for each digit further emphasizes the model's strengths and weaknesses. Notably, digits 0 and 1 exhibit TPRs above 93%, reinforcing the model's proficiency in correctly identifying these digits. On the other hand, digits 5 and 8 display lower TPRs, indicating areas where the model may benefit from further refinement.\n"
      ],
      "metadata": {
        "id": "eeiswEoaP28-"
      }
    },
    {
      "cell_type": "markdown",
      "source": [
        "# **Linear Regression**\n"
      ],
      "metadata": {
        "id": "pIyoZsUd3Eqe"
      }
    },
    {
      "cell_type": "markdown",
      "source": [
        "Linear regression, a foundational algorithm in machine learning, is conventionally associated with regression tasks; however, its adaptability extends beyond predicting continuous values.\n",
        "In the context of the multi-class classification, the application of linear regression on the MNIST dataset may seem unconventional yet offers an insightful perspective."
      ],
      "metadata": {
        "id": "bKre8sLde08O"
      }
    },
    {
      "cell_type": "markdown",
      "source": [
        "In a formal context, when presented with input images represented by X and their corresponding labels denoted as y, the least squares solution is expressed as W = (X^T * X)^-1 * X^T * y.\n",
        "Subsequently, for a novel input image X_t, the anticipated scores for each class are determined through the equation y_pred = X_t * W.\n",
        "Notably, the values within y_pred are continuous, not restricted to integers. To finalize predictions for each image, the argmax function is applied to the vector of predictions associated with each image."
      ],
      "metadata": {
        "id": "0GYGFAOviCST"
      }
    },
    {
      "cell_type": "code",
      "source": [
        "def least_squares(X, y):\n",
        "\n",
        "    # Calculate the least squares solution\n",
        "    Weights = np.linalg.pinv(X.T.dot(X)).dot(X.T).dot(y)\n",
        "\n",
        "    return Weights\n",
        "\n",
        "def linear_regression_predict(X, Weights):\n",
        "\n",
        "    # Predict labels using the learned weights\n",
        "    y_pred = X.dot(Weights)\n",
        "\n",
        "    return y_pred\n",
        "\n",
        "\n"
      ],
      "metadata": {
        "id": "PnppnC8M3CYp"
      },
      "execution_count": null,
      "outputs": []
    },
    {
      "cell_type": "code",
      "source": [
        "def calculate_mse(Y, y_pred):\n",
        "\n",
        "  # Calculate MSE for two vectors\n",
        "  mse = np.mean((Y - y_pred) ** 2)\n",
        "  return mse\n",
        "\n",
        "\n",
        "def calculate_acc(Y, y_pred):\n",
        "\n",
        "  # Calculate Accuracy for two one hot encoded vectors\n",
        "  acc = 100 * np.sum(np.all(Y == y_pred, axis=1)) / Y.shape[0]\n",
        "  return acc\n",
        "\n",
        "def show_results_linear_regression(X_train, Y_train_oh, X_test, Y_test_oh):\n",
        "\n",
        "  # Finf optimal weights using least squares\n",
        "  W = least_squares(X_train, Y_train_oh)\n",
        "\n",
        "  # Predict labels on test set\n",
        "  y_pred = linear_regression_predict(X_test, W)\n",
        "\n",
        "  # Transofrm prediction one hot to match predictions\n",
        "  y_pred_one_hot = np.zeros_like(y_pred)\n",
        "  y_pred_one_hot[np.arange(len(y_pred)), y_pred.argmax(axis=1)] = 1\n",
        "\n",
        "\n",
        "  mse = calculate_mse(Y_test_oh, y_pred_one_hot)\n",
        "  acc = calculate_acc(Y_test_oh, y_pred_one_hot)\n",
        "  print(f\"\\nIn-Sample Erorr (MSE) for linear regresson: {mse}\")\n",
        "  print (f\"ACC for multi-class clasification using linear regression = {acc}%\")\n",
        "\n",
        "\n",
        "\n",
        "  # Calculate confusion matrix\n",
        "  Y = np.argmax(Y_test_oh, axis=1)\n",
        "  y_pred_labels = np.argmax(y_pred_one_hot, axis=1)\n",
        "  conf_matrix = confusion_matrix(Y, y_pred_labels)\n",
        "  print (\"\\nConfusion matrix for the multi-class clasification using linear regression:\")\n",
        "  print (conf_matrix)\n",
        "\n"
      ],
      "metadata": {
        "id": "p7TnIJaAna7k"
      },
      "execution_count": null,
      "outputs": []
    },
    {
      "cell_type": "markdown",
      "source": [
        "## **Results**"
      ],
      "metadata": {
        "id": "CoD2WQnzBNC9"
      }
    },
    {
      "cell_type": "code",
      "source": [
        "# Show results on test set\n",
        "\n",
        "print(\"\\n\\nResults for linear regression:\")\n",
        "show_results_linear_regression(X_train, Y_train_oh, X_test,Y_test_oh)"
      ],
      "metadata": {
        "id": "kBgO3aaGpKDF",
        "colab": {
          "base_uri": "https://localhost:8080/"
        },
        "outputId": "8bfab139-8bb5-4af3-ad5e-a994d3a78818"
      },
      "execution_count": null,
      "outputs": [
        {
          "output_type": "stream",
          "name": "stdout",
          "text": [
            "\n",
            "\n",
            "Results for linear regression:\n",
            "\n",
            "In-Sample Erorr (MSE) for linear regresson: 0.02994\n",
            "ACC for multi-class clasification using linear regression = 85.03%\n",
            "\n",
            "Confusion matrix for the multi-class clasification using linear regression:\n",
            "[[ 904    0    1    2    5    6   10    1   12    2]\n",
            " [   0 1100    4    1    4    5    1    0    8    0]\n",
            " [  17   54  816   29   20    2   28   11   48    7]\n",
            " [   8   22   31  848    2   23   13   19   24   24]\n",
            " [   2   23    9    2  836   10    4    6    8   60]\n",
            " [  26   14    3   82   20  690   30   11   39   28]\n",
            " [  19   12   12    0   18   19  933    0    6    0]\n",
            " [   7   35    5   10   33    1    0  894    1   47]\n",
            " [   9   70   10   46   21   38   11    8  737   31]\n",
            " [  20   12    3   16   70    2    0   79    5  745]]\n"
          ]
        }
      ]
    },
    {
      "cell_type": "markdown",
      "source": [
        "## **Discussion**"
      ],
      "metadata": {
        "id": "gQ_7ybHEVrKL"
      }
    },
    {
      "cell_type": "markdown",
      "source": [
        "In this section, we compare the results of the multi-class perceptron, linear  regression and softmax regression models for the multi-class classification of the MNIST dataset.\n",
        "\n",
        "\n"
      ],
      "metadata": {
        "id": "CtEh5JsYKP6G"
      }
    },
    {
      "cell_type": "markdown",
      "source": [
        "\n",
        "**Multi-Class Perceptron:**\n",
        "\n",
        "The multi-class perceptron introduces a unique two-step approach. Initially, 10 binary perceptrons are trained, each specialized in distinguishing one specific digit from the others. The weights learned by these binary perceptrons are then utilized as initial weights for a multi-class perceptron, which integrates this knowledge for the final classification.\n",
        "\n",
        "This approach strikes a balance between simplicity and performance. The multi-class perceptron achieves a competitive accuracy of 88.20% on the training data and 87.94% on the test data. It leverages the feature learning from binary perceptrons effectively, showcasing its ability to capture the essential patterns in the data.\n",
        "\n",
        "However, challenges persist, particularly in distinguishing visually similar digits such as 5, 8, and 9. This indicates areas for potential improvement, and further refinement of the multi-class perceptron, or exploration of alternative architectures, could enhance its performance."
      ],
      "metadata": {
        "id": "1kghGEMDLBco"
      }
    },
    {
      "cell_type": "markdown",
      "source": [
        "**Linear Regression:**\n",
        "\n",
        "Linear regression, being a simple and straightforward model, is known for its ease of implementation and interpretation. In the context of our mission, linear regression achieves a respectable accuracy of 85.25%. However, its simplicity comes with limitations, particularly when it comes to capturing the complex relationships inherent in handwritten characters. Linear regression might struggle with the intricate details and variations present in the different digits.\n",
        "\n",
        "In terms of the confusion matrix, we observe challenges in distinguishing visually similar digits, such as 5 and 8. This suggests that linear regression may face difficulties in making subtle distinctions required for accurate digit recognition.\n",
        "\n"
      ],
      "metadata": {
        "id": "eb-lQHslLS_w"
      }
    },
    {
      "cell_type": "markdown",
      "source": [
        "**Softmax Regression:**\n",
        "\n",
        "Softmax regression, designed explicitly for multi-class classification, provides a more probabilistic framework. It models the probabilities of each class and selects the one with the highest probability as the predicted label. In the case of the MNIST dataset, softmax regression achieves the highest overall accuracy of 87.79%. The probabilistic nature of softmax regression allows it to better handle the complexities of distinguishing between visually similar digits.\n",
        "\n",
        "Examining the confusion matrix, softmax regression showcases higher true positive rates across all digits, indicating its effectiveness in capturing the nuances of digit recognition. It excels in scenarios where understanding the certainty of predictions is crucial. This conclusion arises organically from the manner in which the In-Sample Error is computed. In cases where the algorithm predicts an instance as correct, but it is, in fact, incorrect, a substantial error is added to the cumulative sum. Consequently, during gradient descent optimization, there is a tendency for the algorithm to mitigate false positive predictions, given the significant impact these errors have on the overall error calculation.\n",
        "\n"
      ],
      "metadata": {
        "id": "ciRulvt_LtuR"
      }
    }
  ]
}